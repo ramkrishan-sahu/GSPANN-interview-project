{
 "cells": [
  {
   "cell_type": "code",
   "execution_count": 1,
   "metadata": {
    "ExecuteTime": {
     "end_time": "2017-11-30T22:27:15.598420Z",
     "start_time": "2017-11-30T22:27:13.435849Z"
    },
    "collapsed": true
   },
   "outputs": [],
   "source": [
    "from __future__ import absolute_import\n",
    "from __future__ import division\n",
    "from __future__ import print_function\n",
    "from __future__ import unicode_literals\n",
    "\n",
    "import pandas as pd\n",
    "import numpy as np\n",
    "\n",
    "import matplotlib.pyplot as plt\n",
    "import seaborn as sns\n",
    "%matplotlib inline\n",
    "\n",
    "from sklearn import linear_model\n",
    "from sklearn.model_selection import train_test_split\n",
    "from sklearn.preprocessing import LabelEncoder"
   ]
  },
  {
   "cell_type": "code",
   "execution_count": 2,
   "metadata": {
    "ExecuteTime": {
     "end_time": "2017-11-30T22:27:15.605828Z",
     "start_time": "2017-11-30T22:27:15.600402Z"
    },
    "collapsed": true
   },
   "outputs": [],
   "source": [
    "data = pd.read_csv(\"/home/ram/Desktop/GSpann/test_data_RF.csv\")"
   ]
  },
  {
   "cell_type": "code",
   "execution_count": 3,
   "metadata": {
    "ExecuteTime": {
     "end_time": "2017-11-30T22:27:15.761570Z",
     "start_time": "2017-11-30T22:27:15.609808Z"
    }
   },
   "outputs": [
    {
     "data": {
      "text/html": [
       "<div>\n",
       "<style>\n",
       "    .dataframe thead tr:only-child th {\n",
       "        text-align: right;\n",
       "    }\n",
       "\n",
       "    .dataframe thead th {\n",
       "        text-align: left;\n",
       "    }\n",
       "\n",
       "    .dataframe tbody tr th {\n",
       "        vertical-align: top;\n",
       "    }\n",
       "</style>\n",
       "<table border=\"1\" class=\"dataframe\">\n",
       "  <thead>\n",
       "    <tr style=\"text-align: right;\">\n",
       "      <th></th>\n",
       "      <th>agentID</th>\n",
       "      <th>age</th>\n",
       "      <th>education</th>\n",
       "      <th>Location</th>\n",
       "      <th>years_mem</th>\n",
       "      <th>sub_members</th>\n",
       "      <th>commitment</th>\n",
       "      <th>returned_orders</th>\n",
       "      <th>compn_prev</th>\n",
       "      <th>compn_curr</th>\n",
       "    </tr>\n",
       "  </thead>\n",
       "  <tbody>\n",
       "    <tr>\n",
       "      <th>0</th>\n",
       "      <td>1</td>\n",
       "      <td>42</td>\n",
       "      <td>lower</td>\n",
       "      <td>SF</td>\n",
       "      <td>7</td>\n",
       "      <td>12</td>\n",
       "      <td>F</td>\n",
       "      <td>369</td>\n",
       "      <td>819</td>\n",
       "      <td>731.073989</td>\n",
       "    </tr>\n",
       "    <tr>\n",
       "      <th>1</th>\n",
       "      <td>2</td>\n",
       "      <td>28</td>\n",
       "      <td>medium</td>\n",
       "      <td>WA</td>\n",
       "      <td>3</td>\n",
       "      <td>13</td>\n",
       "      <td>F</td>\n",
       "      <td>136</td>\n",
       "      <td>377</td>\n",
       "      <td>755.629417</td>\n",
       "    </tr>\n",
       "    <tr>\n",
       "      <th>2</th>\n",
       "      <td>3</td>\n",
       "      <td>45</td>\n",
       "      <td>higher</td>\n",
       "      <td>DE</td>\n",
       "      <td>6</td>\n",
       "      <td>2</td>\n",
       "      <td>F</td>\n",
       "      <td>38</td>\n",
       "      <td>203</td>\n",
       "      <td>545.505775</td>\n",
       "    </tr>\n",
       "    <tr>\n",
       "      <th>3</th>\n",
       "      <td>4</td>\n",
       "      <td>33</td>\n",
       "      <td>lower</td>\n",
       "      <td>TX</td>\n",
       "      <td>10</td>\n",
       "      <td>6</td>\n",
       "      <td>P</td>\n",
       "      <td>31</td>\n",
       "      <td>31</td>\n",
       "      <td>456.367827</td>\n",
       "    </tr>\n",
       "    <tr>\n",
       "      <th>4</th>\n",
       "      <td>5</td>\n",
       "      <td>32</td>\n",
       "      <td>higher</td>\n",
       "      <td>TX</td>\n",
       "      <td>9</td>\n",
       "      <td>20</td>\n",
       "      <td>P</td>\n",
       "      <td>173</td>\n",
       "      <td>398</td>\n",
       "      <td>813.790778</td>\n",
       "    </tr>\n",
       "  </tbody>\n",
       "</table>\n",
       "</div>"
      ],
      "text/plain": [
       "   agentID  age education Location  years_mem  sub_members commitment  \\\n",
       "0        1   42     lower       SF          7           12          F   \n",
       "1        2   28    medium       WA          3           13          F   \n",
       "2        3   45    higher       DE          6            2          F   \n",
       "3        4   33     lower       TX         10            6          P   \n",
       "4        5   32    higher       TX          9           20          P   \n",
       "\n",
       "   returned_orders  compn_prev  compn_curr  \n",
       "0              369         819  731.073989  \n",
       "1              136         377  755.629417  \n",
       "2               38         203  545.505775  \n",
       "3               31          31  456.367827  \n",
       "4              173         398  813.790778  "
      ]
     },
     "execution_count": 3,
     "metadata": {},
     "output_type": "execute_result"
    }
   ],
   "source": [
    "data.head()"
   ]
  },
  {
   "cell_type": "code",
   "execution_count": 4,
   "metadata": {
    "ExecuteTime": {
     "end_time": "2017-11-30T22:27:15.862571Z",
     "start_time": "2017-11-30T22:27:15.765544Z"
    }
   },
   "outputs": [
    {
     "name": "stdout",
     "output_type": "stream",
     "text": [
      "<class 'pandas.core.frame.DataFrame'>\n",
      "RangeIndex: 50 entries, 0 to 49\n",
      "Data columns (total 10 columns):\n",
      "agentID            50 non-null int64\n",
      "age                50 non-null int64\n",
      "education          50 non-null object\n",
      "Location           50 non-null object\n",
      "years_mem          50 non-null int64\n",
      "sub_members        50 non-null int64\n",
      "commitment         50 non-null object\n",
      "returned_orders    50 non-null int64\n",
      "compn_prev         50 non-null int64\n",
      "compn_curr         50 non-null float64\n",
      "dtypes: float64(1), int64(6), object(3)\n",
      "memory usage: 4.0+ KB\n"
     ]
    }
   ],
   "source": [
    "data.info()"
   ]
  },
  {
   "cell_type": "code",
   "execution_count": 5,
   "metadata": {
    "ExecuteTime": {
     "end_time": "2017-11-30T22:27:15.947954Z",
     "start_time": "2017-11-30T22:27:15.864852Z"
    }
   },
   "outputs": [
    {
     "data": {
      "text/html": [
       "<div>\n",
       "<style>\n",
       "    .dataframe thead tr:only-child th {\n",
       "        text-align: right;\n",
       "    }\n",
       "\n",
       "    .dataframe thead th {\n",
       "        text-align: left;\n",
       "    }\n",
       "\n",
       "    .dataframe tbody tr th {\n",
       "        vertical-align: top;\n",
       "    }\n",
       "</style>\n",
       "<table border=\"1\" class=\"dataframe\">\n",
       "  <thead>\n",
       "    <tr style=\"text-align: right;\">\n",
       "      <th></th>\n",
       "      <th>education</th>\n",
       "      <th>Location</th>\n",
       "      <th>commitment</th>\n",
       "    </tr>\n",
       "  </thead>\n",
       "  <tbody>\n",
       "    <tr>\n",
       "      <th>0</th>\n",
       "      <td>1</td>\n",
       "      <td>1</td>\n",
       "      <td>0</td>\n",
       "    </tr>\n",
       "    <tr>\n",
       "      <th>1</th>\n",
       "      <td>2</td>\n",
       "      <td>3</td>\n",
       "      <td>0</td>\n",
       "    </tr>\n",
       "    <tr>\n",
       "      <th>2</th>\n",
       "      <td>0</td>\n",
       "      <td>0</td>\n",
       "      <td>0</td>\n",
       "    </tr>\n",
       "    <tr>\n",
       "      <th>3</th>\n",
       "      <td>1</td>\n",
       "      <td>2</td>\n",
       "      <td>1</td>\n",
       "    </tr>\n",
       "    <tr>\n",
       "      <th>4</th>\n",
       "      <td>0</td>\n",
       "      <td>2</td>\n",
       "      <td>1</td>\n",
       "    </tr>\n",
       "  </tbody>\n",
       "</table>\n",
       "</div>"
      ],
      "text/plain": [
       "   education  Location  commitment\n",
       "0          1         1           0\n",
       "1          2         3           0\n",
       "2          0         0           0\n",
       "3          1         2           1\n",
       "4          0         2           1"
      ]
     },
     "execution_count": 5,
     "metadata": {},
     "output_type": "execute_result"
    }
   ],
   "source": [
    "data_new = data[[\"education\", \"Location\", \"commitment\"]].apply(LabelEncoder().fit_transform)\n",
    "data_new.head()"
   ]
  },
  {
   "cell_type": "code",
   "execution_count": 6,
   "metadata": {
    "ExecuteTime": {
     "end_time": "2017-11-30T22:27:16.030187Z",
     "start_time": "2017-11-30T22:27:15.950284Z"
    }
   },
   "outputs": [
    {
     "data": {
      "text/html": [
       "<div>\n",
       "<style>\n",
       "    .dataframe thead tr:only-child th {\n",
       "        text-align: right;\n",
       "    }\n",
       "\n",
       "    .dataframe thead th {\n",
       "        text-align: left;\n",
       "    }\n",
       "\n",
       "    .dataframe tbody tr th {\n",
       "        vertical-align: top;\n",
       "    }\n",
       "</style>\n",
       "<table border=\"1\" class=\"dataframe\">\n",
       "  <thead>\n",
       "    <tr style=\"text-align: right;\">\n",
       "      <th></th>\n",
       "      <th>agentID</th>\n",
       "      <th>age</th>\n",
       "      <th>education</th>\n",
       "      <th>Location</th>\n",
       "      <th>years_mem</th>\n",
       "      <th>sub_members</th>\n",
       "      <th>commitment</th>\n",
       "      <th>returned_orders</th>\n",
       "      <th>compn_prev</th>\n",
       "      <th>compn_curr</th>\n",
       "    </tr>\n",
       "  </thead>\n",
       "  <tbody>\n",
       "    <tr>\n",
       "      <th>0</th>\n",
       "      <td>1</td>\n",
       "      <td>42</td>\n",
       "      <td>1</td>\n",
       "      <td>1</td>\n",
       "      <td>7</td>\n",
       "      <td>12</td>\n",
       "      <td>0</td>\n",
       "      <td>369</td>\n",
       "      <td>819</td>\n",
       "      <td>731.073989</td>\n",
       "    </tr>\n",
       "    <tr>\n",
       "      <th>1</th>\n",
       "      <td>2</td>\n",
       "      <td>28</td>\n",
       "      <td>2</td>\n",
       "      <td>3</td>\n",
       "      <td>3</td>\n",
       "      <td>13</td>\n",
       "      <td>0</td>\n",
       "      <td>136</td>\n",
       "      <td>377</td>\n",
       "      <td>755.629417</td>\n",
       "    </tr>\n",
       "    <tr>\n",
       "      <th>2</th>\n",
       "      <td>3</td>\n",
       "      <td>45</td>\n",
       "      <td>0</td>\n",
       "      <td>0</td>\n",
       "      <td>6</td>\n",
       "      <td>2</td>\n",
       "      <td>0</td>\n",
       "      <td>38</td>\n",
       "      <td>203</td>\n",
       "      <td>545.505775</td>\n",
       "    </tr>\n",
       "    <tr>\n",
       "      <th>3</th>\n",
       "      <td>4</td>\n",
       "      <td>33</td>\n",
       "      <td>1</td>\n",
       "      <td>2</td>\n",
       "      <td>10</td>\n",
       "      <td>6</td>\n",
       "      <td>1</td>\n",
       "      <td>31</td>\n",
       "      <td>31</td>\n",
       "      <td>456.367827</td>\n",
       "    </tr>\n",
       "    <tr>\n",
       "      <th>4</th>\n",
       "      <td>5</td>\n",
       "      <td>32</td>\n",
       "      <td>0</td>\n",
       "      <td>2</td>\n",
       "      <td>9</td>\n",
       "      <td>20</td>\n",
       "      <td>1</td>\n",
       "      <td>173</td>\n",
       "      <td>398</td>\n",
       "      <td>813.790778</td>\n",
       "    </tr>\n",
       "  </tbody>\n",
       "</table>\n",
       "</div>"
      ],
      "text/plain": [
       "   agentID  age  education  Location  years_mem  sub_members  commitment  \\\n",
       "0        1   42          1         1          7           12           0   \n",
       "1        2   28          2         3          3           13           0   \n",
       "2        3   45          0         0          6            2           0   \n",
       "3        4   33          1         2         10            6           1   \n",
       "4        5   32          0         2          9           20           1   \n",
       "\n",
       "   returned_orders  compn_prev  compn_curr  \n",
       "0              369         819  731.073989  \n",
       "1              136         377  755.629417  \n",
       "2               38         203  545.505775  \n",
       "3               31          31  456.367827  \n",
       "4              173         398  813.790778  "
      ]
     },
     "execution_count": 6,
     "metadata": {},
     "output_type": "execute_result"
    }
   ],
   "source": [
    "data[\"education\"] = data_new[\"education\"]\n",
    "data[\"Location\"] = data_new[\"Location\"]\n",
    "data[\"commitment\"] = data_new[\"commitment\"]\n",
    "data.head()"
   ]
  },
  {
   "cell_type": "code",
   "execution_count": 7,
   "metadata": {
    "ExecuteTime": {
     "end_time": "2017-11-30T22:27:16.093037Z",
     "start_time": "2017-11-30T22:27:16.033510Z"
    },
    "collapsed": true
   },
   "outputs": [],
   "source": [
    "X_train, X_test, y_train, y_test = train_test_split(data.iloc[:,:-1], data[\"compn_curr\"],\n",
    "                            test_size=0.2, random_state=23)"
   ]
  },
  {
   "cell_type": "code",
   "execution_count": 8,
   "metadata": {
    "ExecuteTime": {
     "end_time": "2017-11-30T22:27:16.201551Z",
     "start_time": "2017-11-30T22:27:16.095575Z"
    }
   },
   "outputs": [
    {
     "data": {
      "text/html": [
       "<div>\n",
       "<style>\n",
       "    .dataframe thead tr:only-child th {\n",
       "        text-align: right;\n",
       "    }\n",
       "\n",
       "    .dataframe thead th {\n",
       "        text-align: left;\n",
       "    }\n",
       "\n",
       "    .dataframe tbody tr th {\n",
       "        vertical-align: top;\n",
       "    }\n",
       "</style>\n",
       "<table border=\"1\" class=\"dataframe\">\n",
       "  <thead>\n",
       "    <tr style=\"text-align: right;\">\n",
       "      <th></th>\n",
       "      <th>agentID</th>\n",
       "      <th>age</th>\n",
       "      <th>education</th>\n",
       "      <th>Location</th>\n",
       "      <th>years_mem</th>\n",
       "      <th>sub_members</th>\n",
       "      <th>commitment</th>\n",
       "      <th>returned_orders</th>\n",
       "      <th>compn_prev</th>\n",
       "    </tr>\n",
       "  </thead>\n",
       "  <tbody>\n",
       "    <tr>\n",
       "      <th>29</th>\n",
       "      <td>30</td>\n",
       "      <td>45</td>\n",
       "      <td>2</td>\n",
       "      <td>1</td>\n",
       "      <td>1</td>\n",
       "      <td>17</td>\n",
       "      <td>1</td>\n",
       "      <td>89</td>\n",
       "      <td>411</td>\n",
       "    </tr>\n",
       "    <tr>\n",
       "      <th>10</th>\n",
       "      <td>11</td>\n",
       "      <td>28</td>\n",
       "      <td>0</td>\n",
       "      <td>2</td>\n",
       "      <td>3</td>\n",
       "      <td>11</td>\n",
       "      <td>1</td>\n",
       "      <td>27</td>\n",
       "      <td>583</td>\n",
       "    </tr>\n",
       "    <tr>\n",
       "      <th>44</th>\n",
       "      <td>45</td>\n",
       "      <td>44</td>\n",
       "      <td>0</td>\n",
       "      <td>3</td>\n",
       "      <td>10</td>\n",
       "      <td>18</td>\n",
       "      <td>0</td>\n",
       "      <td>201</td>\n",
       "      <td>949</td>\n",
       "    </tr>\n",
       "    <tr>\n",
       "      <th>3</th>\n",
       "      <td>4</td>\n",
       "      <td>33</td>\n",
       "      <td>1</td>\n",
       "      <td>2</td>\n",
       "      <td>10</td>\n",
       "      <td>6</td>\n",
       "      <td>1</td>\n",
       "      <td>31</td>\n",
       "      <td>31</td>\n",
       "    </tr>\n",
       "    <tr>\n",
       "      <th>22</th>\n",
       "      <td>23</td>\n",
       "      <td>30</td>\n",
       "      <td>0</td>\n",
       "      <td>2</td>\n",
       "      <td>0</td>\n",
       "      <td>12</td>\n",
       "      <td>0</td>\n",
       "      <td>28</td>\n",
       "      <td>798</td>\n",
       "    </tr>\n",
       "  </tbody>\n",
       "</table>\n",
       "</div>"
      ],
      "text/plain": [
       "    agentID  age  education  Location  years_mem  sub_members  commitment  \\\n",
       "29       30   45          2         1          1           17           1   \n",
       "10       11   28          0         2          3           11           1   \n",
       "44       45   44          0         3         10           18           0   \n",
       "3         4   33          1         2         10            6           1   \n",
       "22       23   30          0         2          0           12           0   \n",
       "\n",
       "    returned_orders  compn_prev  \n",
       "29               89         411  \n",
       "10               27         583  \n",
       "44              201         949  \n",
       "3                31          31  \n",
       "22               28         798  "
      ]
     },
     "execution_count": 8,
     "metadata": {},
     "output_type": "execute_result"
    }
   ],
   "source": [
    "X_train.head()"
   ]
  },
  {
   "cell_type": "code",
   "execution_count": 9,
   "metadata": {
    "ExecuteTime": {
     "end_time": "2017-11-30T22:27:16.286332Z",
     "start_time": "2017-11-30T22:27:16.204691Z"
    }
   },
   "outputs": [
    {
     "name": "stdout",
     "output_type": "stream",
     "text": [
      "agentID            int64\n",
      "age                int64\n",
      "education          int64\n",
      "Location           int64\n",
      "years_mem          int64\n",
      "sub_members        int64\n",
      "commitment         int64\n",
      "returned_orders    int64\n",
      "compn_prev         int64\n",
      "dtype: object\n"
     ]
    },
    {
     "data": {
      "text/plain": [
       "(40, 9)"
      ]
     },
     "execution_count": 9,
     "metadata": {},
     "output_type": "execute_result"
    }
   ],
   "source": [
    "print (X_train.dtypes)\n",
    "X_train.shape"
   ]
  },
  {
   "cell_type": "code",
   "execution_count": 10,
   "metadata": {
    "ExecuteTime": {
     "end_time": "2017-11-30T22:27:16.367237Z",
     "start_time": "2017-11-30T22:27:16.292277Z"
    },
    "scrolled": false
   },
   "outputs": [
    {
     "name": "stdout",
     "output_type": "stream",
     "text": [
      "29     730.769042\n",
      "10     758.242303\n",
      "44    1085.001018\n",
      "3      456.367827\n",
      "22     975.561658\n",
      "Name: compn_curr, dtype: float64\n"
     ]
    },
    {
     "data": {
      "text/plain": [
       "(40,)"
      ]
     },
     "execution_count": 10,
     "metadata": {},
     "output_type": "execute_result"
    }
   ],
   "source": [
    "print (y_train.head())\n",
    "y_train.shape"
   ]
  },
  {
   "cell_type": "markdown",
   "metadata": {},
   "source": [
    "## Linear Regression:"
   ]
  },
  {
   "cell_type": "code",
   "execution_count": 11,
   "metadata": {
    "ExecuteTime": {
     "end_time": "2017-11-30T22:27:16.462193Z",
     "start_time": "2017-11-30T22:27:16.380641Z"
    },
    "collapsed": true
   },
   "outputs": [],
   "source": [
    "Lin_reg = linear_model.LinearRegression()"
   ]
  },
  {
   "cell_type": "code",
   "execution_count": 12,
   "metadata": {
    "ExecuteTime": {
     "end_time": "2017-11-30T22:27:16.535049Z",
     "start_time": "2017-11-30T22:27:16.470571Z"
    }
   },
   "outputs": [],
   "source": [
    "Lin_reg.fit(X_train, y_train)\n",
    "y_pred_lin = Lin_reg.predict(X_test)"
   ]
  },
  {
   "cell_type": "code",
   "execution_count": 13,
   "metadata": {
    "ExecuteTime": {
     "end_time": "2017-11-30T22:27:16.602305Z",
     "start_time": "2017-11-30T22:27:16.538123Z"
    }
   },
   "outputs": [
    {
     "data": {
      "text/plain": [
       "array([ 937.35568263,  262.17396119,  703.01281661,  360.62795399,\n",
       "        556.19240857,  410.45028235,  240.54292621,  503.67194865,\n",
       "        986.94957793,  712.38585933])"
      ]
     },
     "execution_count": 13,
     "metadata": {},
     "output_type": "execute_result"
    }
   ],
   "source": [
    "y_pred_lin"
   ]
  },
  {
   "cell_type": "code",
   "execution_count": 14,
   "metadata": {
    "ExecuteTime": {
     "end_time": "2017-11-30T22:27:16.669832Z",
     "start_time": "2017-11-30T22:27:16.606422Z"
    }
   },
   "outputs": [
    {
     "data": {
      "text/plain": [
       "14    932.735136\n",
       "18    267.225682\n",
       "17    703.138720\n",
       "32    344.402816\n",
       "13    560.854223\n",
       "33    407.241700\n",
       "20    218.866195\n",
       "8     457.586380\n",
       "36    989.519334\n",
       "28    723.752545\n",
       "Name: compn_curr, dtype: float64"
      ]
     },
     "execution_count": 14,
     "metadata": {},
     "output_type": "execute_result"
    }
   ],
   "source": [
    "y_test"
   ]
  },
  {
   "cell_type": "code",
   "execution_count": 15,
   "metadata": {
    "ExecuteTime": {
     "end_time": "2017-11-30T22:27:16.764066Z",
     "start_time": "2017-11-30T22:27:16.673947Z"
    },
    "collapsed": true
   },
   "outputs": [],
   "source": [
    "from sklearn.metrics import r2_score"
   ]
  },
  {
   "cell_type": "code",
   "execution_count": 16,
   "metadata": {
    "ExecuteTime": {
     "end_time": "2017-11-30T22:27:16.822299Z",
     "start_time": "2017-11-30T22:27:16.768319Z"
    },
    "scrolled": true
   },
   "outputs": [
    {
     "name": "stdout",
     "output_type": "stream",
     "text": [
      "R^2 score of Linear Regression: 0.995296793372\n"
     ]
    }
   ],
   "source": [
    "r2_score_lin = r2_score(y_test, y_pred_lin)\n",
    "print (\"R^2 score of Linear Regression:\", r2_score_lin)"
   ]
  },
  {
   "cell_type": "markdown",
   "metadata": {
    "ExecuteTime": {
     "end_time": "2017-11-30T10:12:36.481169Z",
     "start_time": "2017-11-30T10:12:36.471741Z"
    },
    "collapsed": true
   },
   "source": [
    "## Simple Random Forest Regressor"
   ]
  },
  {
   "cell_type": "code",
   "execution_count": 17,
   "metadata": {
    "ExecuteTime": {
     "end_time": "2017-11-30T22:27:16.961880Z",
     "start_time": "2017-11-30T22:27:16.824251Z"
    }
   },
   "outputs": [],
   "source": [
    "from sklearn.ensemble import RandomForestRegressor"
   ]
  },
  {
   "cell_type": "code",
   "execution_count": 18,
   "metadata": {
    "ExecuteTime": {
     "end_time": "2017-11-30T22:27:17.021536Z",
     "start_time": "2017-11-30T22:27:16.964089Z"
    }
   },
   "outputs": [
    {
     "name": "stderr",
     "output_type": "stream",
     "text": [
      "/home/ram/miniconda2/envs/greyatom/lib/python2.7/site-packages/sklearn/ensemble/forest.py:720: UserWarning: Some inputs do not have OOB scores. This probably means too few trees were used to compute any reliable oob estimates.\n",
      "  warn(\"Some inputs do not have OOB scores. \"\n"
     ]
    }
   ],
   "source": [
    "Rdm_reg = RandomForestRegressor(random_state=1, oob_score = True)\n",
    "\n",
    "Rdm_reg.fit(X_train, y_train)\n",
    "y_pred_rdm = Rdm_reg.predict(X_test)"
   ]
  },
  {
   "cell_type": "code",
   "execution_count": 19,
   "metadata": {
    "ExecuteTime": {
     "end_time": "2017-11-30T22:27:17.066181Z",
     "start_time": "2017-11-30T22:27:17.024337Z"
    }
   },
   "outputs": [
    {
     "data": {
      "text/plain": [
       "array([ 793.07519269,  354.54867386,  656.46347469,  383.56579516,\n",
       "        664.82858353,  458.13983538,  340.93437485,  706.26883439,\n",
       "        872.20339341,  682.55919011])"
      ]
     },
     "execution_count": 19,
     "metadata": {},
     "output_type": "execute_result"
    }
   ],
   "source": [
    "y_pred_rdm"
   ]
  },
  {
   "cell_type": "code",
   "execution_count": 20,
   "metadata": {
    "ExecuteTime": {
     "end_time": "2017-11-30T22:27:17.158576Z",
     "start_time": "2017-11-30T22:27:17.076356Z"
    }
   },
   "outputs": [
    {
     "name": "stdout",
     "output_type": "stream",
     "text": [
      "R^2 score of Random Forest Regressor: 0.79108212138\n"
     ]
    }
   ],
   "source": [
    "r2_score_rdm = r2_score(y_test, y_pred_rdm)\n",
    "print (\"R^2 score of Random Forest Regressor:\", r2_score_rdm)"
   ]
  },
  {
   "cell_type": "markdown",
   "metadata": {
    "ExecuteTime": {
     "end_time": "2017-11-30T10:14:17.809761Z",
     "start_time": "2017-11-30T10:14:17.796521Z"
    }
   },
   "source": [
    "## Parameter Tuned Random Forest Regressor"
   ]
  },
  {
   "cell_type": "code",
   "execution_count": 21,
   "metadata": {
    "ExecuteTime": {
     "end_time": "2017-11-30T22:27:17.208641Z",
     "start_time": "2017-11-30T22:27:17.162107Z"
    },
    "collapsed": true
   },
   "outputs": [],
   "source": [
    "parameters = {'n_estimators': [4, 6, 9, 15, 20], \n",
    "              'max_features': ['log2', 'sqrt','auto'], \n",
    "              'max_depth': [2, 3, 5, 10], \n",
    "              'min_samples_split': [2, 3, 5],\n",
    "              'min_samples_leaf': [1,5,8]\n",
    "             }"
   ]
  },
  {
   "cell_type": "code",
   "execution_count": 22,
   "metadata": {
    "ExecuteTime": {
     "end_time": "2017-11-30T22:27:17.263809Z",
     "start_time": "2017-11-30T22:27:17.210484Z"
    },
    "collapsed": true
   },
   "outputs": [],
   "source": [
    "from sklearn.model_selection import GridSearchCV"
   ]
  },
  {
   "cell_type": "code",
   "execution_count": 23,
   "metadata": {
    "ExecuteTime": {
     "end_time": "2017-11-30T22:27:17.320958Z",
     "start_time": "2017-11-30T22:27:17.265709Z"
    },
    "collapsed": true
   },
   "outputs": [],
   "source": [
    "def plot_train_test_scores(grid_obj):    \n",
    "    \n",
    "    test_score = grid_obj.cv_results_['mean_test_score']\n",
    "    train_score = grid_obj.cv_results_['mean_train_score']\n",
    "    \n",
    "    labels = map(str, grid_obj.param_grid.values()[0])\n",
    "    x = np.arange(1, len(labels)+1)\n",
    "    sns.set_style('darkgrid')\n",
    "    \n",
    "    plt.figure(figsize=(10,6))\n",
    "    plt.plot(x, test_score, c='purple')\n",
    "    plt.plot(x, train_score, c='green')\n",
    "    plt.xlabel(grid_obj.param_grid.keys()[0])\n",
    "    plt.xticks(x, labels)\n",
    "    plt.show()"
   ]
  },
  {
   "cell_type": "code",
   "execution_count": 24,
   "metadata": {
    "ExecuteTime": {
     "end_time": "2017-11-30T22:27:17.375070Z",
     "start_time": "2017-11-30T22:27:17.327014Z"
    },
    "collapsed": true
   },
   "outputs": [],
   "source": [
    "def Random_Forest_Regressor(reg, parameters, x, y):\n",
    "    \n",
    "    grid_obj = GridSearchCV(reg, parameters)\n",
    "    grid_obj = grid_obj.fit(x, y)\n",
    "    \n",
    "    reg_grid_obj = grid_obj.best_estimator_\n",
    "    y_pred_rfr = reg_grid_obj.predict(X_test)\n",
    "    \n",
    "    plot_train_test_scores(grid_obj)\n",
    "    \n",
    "    return r2_score(y_test, y_pred_rfr), grid_obj.best_params_"
   ]
  },
  {
   "cell_type": "code",
   "execution_count": 25,
   "metadata": {
    "ExecuteTime": {
     "end_time": "2017-11-30T22:27:18.134101Z",
     "start_time": "2017-11-30T22:27:17.376832Z"
    }
   },
   "outputs": [
    {
     "data": {
      "image/png": "[encoded data removed]",
      "text/plain": [
       "<matplotlib.figure.Figure at 0x7f61eaf53750>"
      ]
     },
     "metadata": {},
     "output_type": "display_data"
    },
    {
     "name": "stdout",
     "output_type": "stream",
     "text": [
      "0.802269420098\n",
      "{u'n_estimators': 9}\n"
     ]
    }
   ],
   "source": [
    "score, para_n_estimators = Random_Forest_Regressor(Rdm_reg, {'n_estimators': [4, 6, 9, 15, 20]}, X_train, y_train)\n",
    "print (score)\n",
    "print (para_n_estimators)"
   ]
  },
  {
   "cell_type": "code",
   "execution_count": 26,
   "metadata": {
    "ExecuteTime": {
     "end_time": "2017-11-30T22:27:18.678293Z",
     "start_time": "2017-11-30T22:27:18.136547Z"
    }
   },
   "outputs": [
    {
     "data": {
      "image/png": "[encoded data removed]",
      "text/plain": [
       "<matplotlib.figure.Figure at 0x7f61abe2bcd0>"
      ]
     },
     "metadata": {},
     "output_type": "display_data"
    },
    {
     "name": "stdout",
     "output_type": "stream",
     "text": [
      "0.812879292027\n",
      "{u'max_features': u'log2'}\n"
     ]
    }
   ],
   "source": [
    "score, para_max_features = Random_Forest_Regressor(Rdm_reg, {'max_features': ['log2', 'sqrt','auto']}, X_train, y_train)\n",
    "print (score)\n",
    "print (para_max_features)"
   ]
  },
  {
   "cell_type": "code",
   "execution_count": 27,
   "metadata": {
    "ExecuteTime": {
     "end_time": "2017-11-30T22:27:19.304506Z",
     "start_time": "2017-11-30T22:27:18.680604Z"
    }
   },
   "outputs": [
    {
     "data": {
      "image/png": "[encoded data removed]",
      "text/plain": [
       "<matplotlib.figure.Figure at 0x7f61abee6b90>"
      ]
     },
     "metadata": {},
     "output_type": "display_data"
    },
    {
     "name": "stdout",
     "output_type": "stream",
     "text": [
      "0.79108212138\n",
      "{u'max_depth': 10}\n"
     ]
    }
   ],
   "source": [
    "score, para_max_depth = Random_Forest_Regressor(Rdm_reg, {'max_depth': [2, 3, 5, 10]}, X_train, y_train)\n",
    "print (score)\n",
    "print (para_max_depth)"
   ]
  },
  {
   "cell_type": "code",
   "execution_count": 28,
   "metadata": {
    "ExecuteTime": {
     "end_time": "2017-11-30T22:27:19.877268Z",
     "start_time": "2017-11-30T22:27:19.306684Z"
    }
   },
   "outputs": [
    {
     "data": {
      "image/png": "[encoded data removed]",
      "text/plain": [
       "<matplotlib.figure.Figure at 0x7f61a9b00a90>"
      ]
     },
     "metadata": {},
     "output_type": "display_data"
    },
    {
     "name": "stdout",
     "output_type": "stream",
     "text": [
      "0.79108212138\n",
      "{u'min_samples_split': 2}\n"
     ]
    }
   ],
   "source": [
    "score, para_min_samples_split = Random_Forest_Regressor(Rdm_reg, {'min_samples_split': [2, 3, 5, 15]}, X_train, y_train)\n",
    "print (score)\n",
    "print (para_min_samples_split)"
   ]
  },
  {
   "cell_type": "code",
   "execution_count": 29,
   "metadata": {
    "ExecuteTime": {
     "end_time": "2017-11-30T22:27:20.438953Z",
     "start_time": "2017-11-30T22:27:19.879743Z"
    },
    "scrolled": false
   },
   "outputs": [
    {
     "data": {
      "image/png": "[encoded data removed]",
      "text/plain": [
       "<matplotlib.figure.Figure at 0x7f61ace83a90>"
      ]
     },
     "metadata": {},
     "output_type": "display_data"
    },
    {
     "name": "stdout",
     "output_type": "stream",
     "text": [
      "0.79108212138\n",
      "{u'min_samples_leaf': 1}\n"
     ]
    }
   ],
   "source": [
    "score, para_min_samples_leaf = Random_Forest_Regressor(Rdm_reg, {'min_samples_leaf': [1,5,8]}, X_train, y_train)\n",
    "print (score)\n",
    "print (para_min_samples_leaf)"
   ]
  },
  {
   "cell_type": "markdown",
   "metadata": {},
   "source": [
    "## Random Forest: Taking the best Parameters"
   ]
  },
  {
   "cell_type": "code",
   "execution_count": 30,
   "metadata": {
    "ExecuteTime": {
     "end_time": "2017-11-30T22:27:20.505441Z",
     "start_time": "2017-11-30T22:27:20.441131Z"
    }
   },
   "outputs": [],
   "source": [
    "Rdm_reg = RandomForestRegressor(n_estimators= para_n_estimators.values()[0],\n",
    "                                max_features= para_max_features.values()[0], \n",
    "                                max_depth= para_max_depth.values()[0],\n",
    "                                min_samples_split= para_min_samples_split.values()[0],\n",
    "                                min_samples_leaf= para_min_samples_leaf.values()[0],\n",
    "                                random_state=1, oob_score = True)\n",
    "\n",
    "Rdm_reg.fit(X_train, y_train)\n",
    "y_pred_rdm = Rdm_reg.predict(X_test)"
   ]
  },
  {
   "cell_type": "code",
   "execution_count": 31,
   "metadata": {
    "ExecuteTime": {
     "end_time": "2017-11-30T22:27:20.577783Z",
     "start_time": "2017-11-30T22:27:20.507583Z"
    },
    "scrolled": true
   },
   "outputs": [
    {
     "name": "stdout",
     "output_type": "stream",
     "text": [
      "R^2 score of Random Forest Regressor: 0.827057885377\n"
     ]
    }
   ],
   "source": [
    "r2_score_rdm = r2_score(y_test, y_pred_rdm)\n",
    "print (\"R^2 score of Random Forest Regressor:\", r2_score_rdm)"
   ]
  },
  {
   "cell_type": "markdown",
   "metadata": {},
   "source": [
    "Sores:\n",
    "\n",
    "* Linear regression: 0.995296793372\n",
    "\n",
    "* Random Forest Regressor: 0.827057885377\n",
    "\n",
    "As Expected:\n",
    "Linear regression performs better than Random Forest Regressor"
   ]
  }
 ],
 "metadata": {
  "kernelspec": {
   "display_name": "Python 2",
   "language": "python",
   "name": "python2"
  },
  "language_info": {
   "codemirror_mode": {
    "name": "ipython",
    "version": 2
   },
   "file_extension": ".py",
   "mimetype": "text/x-python",
   "name": "python",
   "nbconvert_exporter": "python",
   "pygments_lexer": "ipython2",
   "version": "2.7.13"
  },
  "toc": {
   "colors": {
    "hover_highlight": "#DAA520",
    "navigate_num": "#000000",
    "navigate_text": "#333333",
    "running_highlight": "#FF0000",
    "selected_highlight": "#FFD700",
    "sidebar_border": "#EEEEEE",
    "wrapper_background": "#FFFFFF"
   },
   "moveMenuLeft": true,
   "nav_menu": {
    "height": "12px",
    "width": "252px"
   },
   "navigate_menu": true,
   "number_sections": true,
   "sideBar": true,
   "threshold": 4,
   "toc_cell": false,
   "toc_section_display": "block",
   "toc_window_display": false,
   "widenNotebook": false
  },
  "varInspector": {
   "cols": {
    "lenName": 16,
    "lenType": 16,
    "lenVar": 40
   },
   "kernels_config": {
    "python": {
     "delete_cmd_postfix": "",
     "delete_cmd_prefix": "del ",
     "library": "var_list.py",
     "varRefreshCmd": "print(var_dic_list())"
    },
    "r": {
     "delete_cmd_postfix": ") ",
     "delete_cmd_prefix": "rm(",
     "library": "var_list.r",
     "varRefreshCmd": "cat(var_dic_list()) "
    }
   },
   "types_to_exclude": [
    "module",
    "function",
    "builtin_function_or_method",
    "instance",
    "_Feature"
   ],
   "window_display": false
  },
  "widgets": {
   "state": {},
   "version": "1.1.2"
  }
 },
 "nbformat": 4,
 "nbformat_minor": 2
}
